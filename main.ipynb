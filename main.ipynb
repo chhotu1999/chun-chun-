{
 "cells": [
  {
   "cell_type": "code",
   "execution_count": 34,
   "metadata": {},
   "outputs": [],
   "source": [
    "import spacy "
   ]
  },
  {
   "cell_type": "code",
   "execution_count": 35,
   "metadata": {},
   "outputs": [
    {
     "ename": "ValueError",
     "evalue": "[E002] Can't find factory for 'transformer' for language English (en). This usually happens when spaCy calls `nlp.create_pipe` with a custom component name that's not registered on the current language class. If you're using a Transformer, make sure to install 'spacy-transformers'. If you're using a custom component, make sure you've added the decorator `@Language.component` (for function components) or `@Language.factory` (for class components).\n\nAvailable factories: attribute_ruler, tok2vec, merge_noun_chunks, merge_entities, merge_subtokens, token_splitter, doc_cleaner, parser, beam_parser, entity_linker, ner, beam_ner, entity_ruler, lemmatizer, tagger, morphologizer, senter, sentencizer, textcat, spancat, textcat_multilabel, en.lemmatizer",
     "output_type": "error",
     "traceback": [
      "\u001b[1;31m---------------------------------------------------------------------------\u001b[0m",
      "\u001b[1;31mValueError\u001b[0m                                Traceback (most recent call last)",
      "\u001b[1;32mc:\\Users\\DELL\\Desktop\\aakash\\main.ipynb Cell 2'\u001b[0m in \u001b[0;36m<module>\u001b[1;34m\u001b[0m\n\u001b[1;32m----> <a href='vscode-notebook-cell:/c%3A/Users/DELL/Desktop/aakash/main.ipynb#ch0000001?line=0'>1</a>\u001b[0m nlp \u001b[39m=\u001b[39m spacy\u001b[39m.\u001b[39;49mload(\u001b[39m\"\u001b[39;49m\u001b[39men_core_web_trf\u001b[39;49m\u001b[39m\"\u001b[39;49m)\n",
      "File \u001b[1;32m~\\AppData\\Local\\Programs\\Python\\Python310\\lib\\site-packages\\spacy\\__init__.py:51\u001b[0m, in \u001b[0;36mload\u001b[1;34m(name, vocab, disable, exclude, config)\u001b[0m\n\u001b[0;32m     <a href='file:///c%3A/Users/DELL/AppData/Local/Programs/Python/Python310/lib/site-packages/spacy/__init__.py?line=29'>30</a>\u001b[0m \u001b[39mdef\u001b[39;00m \u001b[39mload\u001b[39m(\n\u001b[0;32m     <a href='file:///c%3A/Users/DELL/AppData/Local/Programs/Python/Python310/lib/site-packages/spacy/__init__.py?line=30'>31</a>\u001b[0m     name: Union[\u001b[39mstr\u001b[39m, Path],\n\u001b[0;32m     <a href='file:///c%3A/Users/DELL/AppData/Local/Programs/Python/Python310/lib/site-packages/spacy/__init__.py?line=31'>32</a>\u001b[0m     \u001b[39m*\u001b[39m,\n\u001b[1;32m   (...)\u001b[0m\n\u001b[0;32m     <a href='file:///c%3A/Users/DELL/AppData/Local/Programs/Python/Python310/lib/site-packages/spacy/__init__.py?line=35'>36</a>\u001b[0m     config: Union[Dict[\u001b[39mstr\u001b[39m, Any], Config] \u001b[39m=\u001b[39m util\u001b[39m.\u001b[39mSimpleFrozenDict(),\n\u001b[0;32m     <a href='file:///c%3A/Users/DELL/AppData/Local/Programs/Python/Python310/lib/site-packages/spacy/__init__.py?line=36'>37</a>\u001b[0m ) \u001b[39m-\u001b[39m\u001b[39m>\u001b[39m Language:\n\u001b[0;32m     <a href='file:///c%3A/Users/DELL/AppData/Local/Programs/Python/Python310/lib/site-packages/spacy/__init__.py?line=37'>38</a>\u001b[0m     \u001b[39m\"\"\"Load a spaCy model from an installed package or a local path.\u001b[39;00m\n\u001b[0;32m     <a href='file:///c%3A/Users/DELL/AppData/Local/Programs/Python/Python310/lib/site-packages/spacy/__init__.py?line=38'>39</a>\u001b[0m \n\u001b[0;32m     <a href='file:///c%3A/Users/DELL/AppData/Local/Programs/Python/Python310/lib/site-packages/spacy/__init__.py?line=39'>40</a>\u001b[0m \u001b[39m    name (str): Package name or model path.\u001b[39;00m\n\u001b[1;32m   (...)\u001b[0m\n\u001b[0;32m     <a href='file:///c%3A/Users/DELL/AppData/Local/Programs/Python/Python310/lib/site-packages/spacy/__init__.py?line=48'>49</a>\u001b[0m \u001b[39m    RETURNS (Language): The loaded nlp object.\u001b[39;00m\n\u001b[0;32m     <a href='file:///c%3A/Users/DELL/AppData/Local/Programs/Python/Python310/lib/site-packages/spacy/__init__.py?line=49'>50</a>\u001b[0m \u001b[39m    \"\"\"\u001b[39;00m\n\u001b[1;32m---> <a href='file:///c%3A/Users/DELL/AppData/Local/Programs/Python/Python310/lib/site-packages/spacy/__init__.py?line=50'>51</a>\u001b[0m     \u001b[39mreturn\u001b[39;00m util\u001b[39m.\u001b[39;49mload_model(\n\u001b[0;32m     <a href='file:///c%3A/Users/DELL/AppData/Local/Programs/Python/Python310/lib/site-packages/spacy/__init__.py?line=51'>52</a>\u001b[0m         name, vocab\u001b[39m=\u001b[39;49mvocab, disable\u001b[39m=\u001b[39;49mdisable, exclude\u001b[39m=\u001b[39;49mexclude, config\u001b[39m=\u001b[39;49mconfig\n\u001b[0;32m     <a href='file:///c%3A/Users/DELL/AppData/Local/Programs/Python/Python310/lib/site-packages/spacy/__init__.py?line=52'>53</a>\u001b[0m     )\n",
      "File \u001b[1;32m~\\AppData\\Local\\Programs\\Python\\Python310\\lib\\site-packages\\spacy\\util.py:420\u001b[0m, in \u001b[0;36mload_model\u001b[1;34m(name, vocab, disable, exclude, config)\u001b[0m\n\u001b[0;32m    <a href='file:///c%3A/Users/DELL/AppData/Local/Programs/Python/Python310/lib/site-packages/spacy/util.py?line=417'>418</a>\u001b[0m     \u001b[39mreturn\u001b[39;00m get_lang_class(name\u001b[39m.\u001b[39mreplace(\u001b[39m\"\u001b[39m\u001b[39mblank:\u001b[39m\u001b[39m\"\u001b[39m, \u001b[39m\"\u001b[39m\u001b[39m\"\u001b[39m))()\n\u001b[0;32m    <a href='file:///c%3A/Users/DELL/AppData/Local/Programs/Python/Python310/lib/site-packages/spacy/util.py?line=418'>419</a>\u001b[0m \u001b[39mif\u001b[39;00m is_package(name):  \u001b[39m# installed as package\u001b[39;00m\n\u001b[1;32m--> <a href='file:///c%3A/Users/DELL/AppData/Local/Programs/Python/Python310/lib/site-packages/spacy/util.py?line=419'>420</a>\u001b[0m     \u001b[39mreturn\u001b[39;00m load_model_from_package(name, \u001b[39m*\u001b[39m\u001b[39m*\u001b[39mkwargs)  \u001b[39m# type: ignore[arg-type]\u001b[39;00m\n\u001b[0;32m    <a href='file:///c%3A/Users/DELL/AppData/Local/Programs/Python/Python310/lib/site-packages/spacy/util.py?line=420'>421</a>\u001b[0m \u001b[39mif\u001b[39;00m Path(name)\u001b[39m.\u001b[39mexists():  \u001b[39m# path to model data directory\u001b[39;00m\n\u001b[0;32m    <a href='file:///c%3A/Users/DELL/AppData/Local/Programs/Python/Python310/lib/site-packages/spacy/util.py?line=421'>422</a>\u001b[0m     \u001b[39mreturn\u001b[39;00m load_model_from_path(Path(name), \u001b[39m*\u001b[39m\u001b[39m*\u001b[39mkwargs)  \u001b[39m# type: ignore[arg-type]\u001b[39;00m\n",
      "File \u001b[1;32m~\\AppData\\Local\\Programs\\Python\\Python310\\lib\\site-packages\\spacy\\util.py:453\u001b[0m, in \u001b[0;36mload_model_from_package\u001b[1;34m(name, vocab, disable, exclude, config)\u001b[0m\n\u001b[0;32m    <a href='file:///c%3A/Users/DELL/AppData/Local/Programs/Python/Python310/lib/site-packages/spacy/util.py?line=437'>438</a>\u001b[0m \u001b[39m\"\"\"Load a model from an installed package.\u001b[39;00m\n\u001b[0;32m    <a href='file:///c%3A/Users/DELL/AppData/Local/Programs/Python/Python310/lib/site-packages/spacy/util.py?line=438'>439</a>\u001b[0m \n\u001b[0;32m    <a href='file:///c%3A/Users/DELL/AppData/Local/Programs/Python/Python310/lib/site-packages/spacy/util.py?line=439'>440</a>\u001b[0m \u001b[39mname (str): The package name.\u001b[39;00m\n\u001b[1;32m   (...)\u001b[0m\n\u001b[0;32m    <a href='file:///c%3A/Users/DELL/AppData/Local/Programs/Python/Python310/lib/site-packages/spacy/util.py?line=449'>450</a>\u001b[0m \u001b[39mRETURNS (Language): The loaded nlp object.\u001b[39;00m\n\u001b[0;32m    <a href='file:///c%3A/Users/DELL/AppData/Local/Programs/Python/Python310/lib/site-packages/spacy/util.py?line=450'>451</a>\u001b[0m \u001b[39m\"\"\"\u001b[39;00m\n\u001b[0;32m    <a href='file:///c%3A/Users/DELL/AppData/Local/Programs/Python/Python310/lib/site-packages/spacy/util.py?line=451'>452</a>\u001b[0m \u001b[39mcls\u001b[39m \u001b[39m=\u001b[39m importlib\u001b[39m.\u001b[39mimport_module(name)\n\u001b[1;32m--> <a href='file:///c%3A/Users/DELL/AppData/Local/Programs/Python/Python310/lib/site-packages/spacy/util.py?line=452'>453</a>\u001b[0m \u001b[39mreturn\u001b[39;00m \u001b[39mcls\u001b[39;49m\u001b[39m.\u001b[39;49mload(vocab\u001b[39m=\u001b[39;49mvocab, disable\u001b[39m=\u001b[39;49mdisable, exclude\u001b[39m=\u001b[39;49mexclude, config\u001b[39m=\u001b[39;49mconfig)\n",
      "File \u001b[1;32m~\\AppData\\Local\\Programs\\Python\\Python310\\lib\\site-packages\\en_core_web_trf\\__init__.py:10\u001b[0m, in \u001b[0;36mload\u001b[1;34m(**overrides)\u001b[0m\n\u001b[0;32m      <a href='file:///c%3A/Users/DELL/AppData/Local/Programs/Python/Python310/lib/site-packages/en_core_web_trf/__init__.py?line=8'>9</a>\u001b[0m \u001b[39mdef\u001b[39;00m \u001b[39mload\u001b[39m(\u001b[39m*\u001b[39m\u001b[39m*\u001b[39moverrides):\n\u001b[1;32m---> <a href='file:///c%3A/Users/DELL/AppData/Local/Programs/Python/Python310/lib/site-packages/en_core_web_trf/__init__.py?line=9'>10</a>\u001b[0m     \u001b[39mreturn\u001b[39;00m load_model_from_init_py(\u001b[39m__file__\u001b[39m, \u001b[39m*\u001b[39m\u001b[39m*\u001b[39moverrides)\n",
      "File \u001b[1;32m~\\AppData\\Local\\Programs\\Python\\Python310\\lib\\site-packages\\spacy\\util.py:615\u001b[0m, in \u001b[0;36mload_model_from_init_py\u001b[1;34m(init_file, vocab, disable, exclude, config)\u001b[0m\n\u001b[0;32m    <a href='file:///c%3A/Users/DELL/AppData/Local/Programs/Python/Python310/lib/site-packages/spacy/util.py?line=612'>613</a>\u001b[0m \u001b[39mif\u001b[39;00m \u001b[39mnot\u001b[39;00m model_path\u001b[39m.\u001b[39mexists():\n\u001b[0;32m    <a href='file:///c%3A/Users/DELL/AppData/Local/Programs/Python/Python310/lib/site-packages/spacy/util.py?line=613'>614</a>\u001b[0m     \u001b[39mraise\u001b[39;00m \u001b[39mIOError\u001b[39;00m(Errors\u001b[39m.\u001b[39mE052\u001b[39m.\u001b[39mformat(path\u001b[39m=\u001b[39mdata_path))\n\u001b[1;32m--> <a href='file:///c%3A/Users/DELL/AppData/Local/Programs/Python/Python310/lib/site-packages/spacy/util.py?line=614'>615</a>\u001b[0m \u001b[39mreturn\u001b[39;00m load_model_from_path(\n\u001b[0;32m    <a href='file:///c%3A/Users/DELL/AppData/Local/Programs/Python/Python310/lib/site-packages/spacy/util.py?line=615'>616</a>\u001b[0m     data_path,\n\u001b[0;32m    <a href='file:///c%3A/Users/DELL/AppData/Local/Programs/Python/Python310/lib/site-packages/spacy/util.py?line=616'>617</a>\u001b[0m     vocab\u001b[39m=\u001b[39;49mvocab,\n\u001b[0;32m    <a href='file:///c%3A/Users/DELL/AppData/Local/Programs/Python/Python310/lib/site-packages/spacy/util.py?line=617'>618</a>\u001b[0m     meta\u001b[39m=\u001b[39;49mmeta,\n\u001b[0;32m    <a href='file:///c%3A/Users/DELL/AppData/Local/Programs/Python/Python310/lib/site-packages/spacy/util.py?line=618'>619</a>\u001b[0m     disable\u001b[39m=\u001b[39;49mdisable,\n\u001b[0;32m    <a href='file:///c%3A/Users/DELL/AppData/Local/Programs/Python/Python310/lib/site-packages/spacy/util.py?line=619'>620</a>\u001b[0m     exclude\u001b[39m=\u001b[39;49mexclude,\n\u001b[0;32m    <a href='file:///c%3A/Users/DELL/AppData/Local/Programs/Python/Python310/lib/site-packages/spacy/util.py?line=620'>621</a>\u001b[0m     config\u001b[39m=\u001b[39;49mconfig,\n\u001b[0;32m    <a href='file:///c%3A/Users/DELL/AppData/Local/Programs/Python/Python310/lib/site-packages/spacy/util.py?line=621'>622</a>\u001b[0m )\n",
      "File \u001b[1;32m~\\AppData\\Local\\Programs\\Python\\Python310\\lib\\site-packages\\spacy\\util.py:488\u001b[0m, in \u001b[0;36mload_model_from_path\u001b[1;34m(model_path, meta, vocab, disable, exclude, config)\u001b[0m\n\u001b[0;32m    <a href='file:///c%3A/Users/DELL/AppData/Local/Programs/Python/Python310/lib/site-packages/spacy/util.py?line=485'>486</a>\u001b[0m overrides \u001b[39m=\u001b[39m dict_to_dot(config)\n\u001b[0;32m    <a href='file:///c%3A/Users/DELL/AppData/Local/Programs/Python/Python310/lib/site-packages/spacy/util.py?line=486'>487</a>\u001b[0m config \u001b[39m=\u001b[39m load_config(config_path, overrides\u001b[39m=\u001b[39moverrides)\n\u001b[1;32m--> <a href='file:///c%3A/Users/DELL/AppData/Local/Programs/Python/Python310/lib/site-packages/spacy/util.py?line=487'>488</a>\u001b[0m nlp \u001b[39m=\u001b[39m load_model_from_config(config, vocab\u001b[39m=\u001b[39;49mvocab, disable\u001b[39m=\u001b[39;49mdisable, exclude\u001b[39m=\u001b[39;49mexclude)\n\u001b[0;32m    <a href='file:///c%3A/Users/DELL/AppData/Local/Programs/Python/Python310/lib/site-packages/spacy/util.py?line=488'>489</a>\u001b[0m \u001b[39mreturn\u001b[39;00m nlp\u001b[39m.\u001b[39mfrom_disk(model_path, exclude\u001b[39m=\u001b[39mexclude, overrides\u001b[39m=\u001b[39moverrides)\n",
      "File \u001b[1;32m~\\AppData\\Local\\Programs\\Python\\Python310\\lib\\site-packages\\spacy\\util.py:525\u001b[0m, in \u001b[0;36mload_model_from_config\u001b[1;34m(config, vocab, disable, exclude, auto_fill, validate)\u001b[0m\n\u001b[0;32m    <a href='file:///c%3A/Users/DELL/AppData/Local/Programs/Python/Python310/lib/site-packages/spacy/util.py?line=521'>522</a>\u001b[0m \u001b[39m# This will automatically handle all codes registered via the languages\u001b[39;00m\n\u001b[0;32m    <a href='file:///c%3A/Users/DELL/AppData/Local/Programs/Python/Python310/lib/site-packages/spacy/util.py?line=522'>523</a>\u001b[0m \u001b[39m# registry, including custom subclasses provided via entry points\u001b[39;00m\n\u001b[0;32m    <a href='file:///c%3A/Users/DELL/AppData/Local/Programs/Python/Python310/lib/site-packages/spacy/util.py?line=523'>524</a>\u001b[0m lang_cls \u001b[39m=\u001b[39m get_lang_class(nlp_config[\u001b[39m\"\u001b[39m\u001b[39mlang\u001b[39m\u001b[39m\"\u001b[39m])\n\u001b[1;32m--> <a href='file:///c%3A/Users/DELL/AppData/Local/Programs/Python/Python310/lib/site-packages/spacy/util.py?line=524'>525</a>\u001b[0m nlp \u001b[39m=\u001b[39m lang_cls\u001b[39m.\u001b[39;49mfrom_config(\n\u001b[0;32m    <a href='file:///c%3A/Users/DELL/AppData/Local/Programs/Python/Python310/lib/site-packages/spacy/util.py?line=525'>526</a>\u001b[0m     config,\n\u001b[0;32m    <a href='file:///c%3A/Users/DELL/AppData/Local/Programs/Python/Python310/lib/site-packages/spacy/util.py?line=526'>527</a>\u001b[0m     vocab\u001b[39m=\u001b[39;49mvocab,\n\u001b[0;32m    <a href='file:///c%3A/Users/DELL/AppData/Local/Programs/Python/Python310/lib/site-packages/spacy/util.py?line=527'>528</a>\u001b[0m     disable\u001b[39m=\u001b[39;49mdisable,\n\u001b[0;32m    <a href='file:///c%3A/Users/DELL/AppData/Local/Programs/Python/Python310/lib/site-packages/spacy/util.py?line=528'>529</a>\u001b[0m     exclude\u001b[39m=\u001b[39;49mexclude,\n\u001b[0;32m    <a href='file:///c%3A/Users/DELL/AppData/Local/Programs/Python/Python310/lib/site-packages/spacy/util.py?line=529'>530</a>\u001b[0m     auto_fill\u001b[39m=\u001b[39;49mauto_fill,\n\u001b[0;32m    <a href='file:///c%3A/Users/DELL/AppData/Local/Programs/Python/Python310/lib/site-packages/spacy/util.py?line=530'>531</a>\u001b[0m     validate\u001b[39m=\u001b[39;49mvalidate,\n\u001b[0;32m    <a href='file:///c%3A/Users/DELL/AppData/Local/Programs/Python/Python310/lib/site-packages/spacy/util.py?line=531'>532</a>\u001b[0m )\n\u001b[0;32m    <a href='file:///c%3A/Users/DELL/AppData/Local/Programs/Python/Python310/lib/site-packages/spacy/util.py?line=532'>533</a>\u001b[0m \u001b[39mreturn\u001b[39;00m nlp\n",
      "File \u001b[1;32m~\\AppData\\Local\\Programs\\Python\\Python310\\lib\\site-packages\\spacy\\language.py:1782\u001b[0m, in \u001b[0;36mLanguage.from_config\u001b[1;34m(cls, config, vocab, disable, exclude, meta, auto_fill, validate)\u001b[0m\n\u001b[0;32m   <a href='file:///c%3A/Users/DELL/AppData/Local/Programs/Python/Python310/lib/site-packages/spacy/language.py?line=1778'>1779</a>\u001b[0m     factory \u001b[39m=\u001b[39m pipe_cfg\u001b[39m.\u001b[39mpop(\u001b[39m\"\u001b[39m\u001b[39mfactory\u001b[39m\u001b[39m\"\u001b[39m)\n\u001b[0;32m   <a href='file:///c%3A/Users/DELL/AppData/Local/Programs/Python/Python310/lib/site-packages/spacy/language.py?line=1779'>1780</a>\u001b[0m     \u001b[39m# The pipe name (key in the config) here is the unique name\u001b[39;00m\n\u001b[0;32m   <a href='file:///c%3A/Users/DELL/AppData/Local/Programs/Python/Python310/lib/site-packages/spacy/language.py?line=1780'>1781</a>\u001b[0m     \u001b[39m# of the component, not necessarily the factory\u001b[39;00m\n\u001b[1;32m-> <a href='file:///c%3A/Users/DELL/AppData/Local/Programs/Python/Python310/lib/site-packages/spacy/language.py?line=1781'>1782</a>\u001b[0m     nlp\u001b[39m.\u001b[39;49madd_pipe(\n\u001b[0;32m   <a href='file:///c%3A/Users/DELL/AppData/Local/Programs/Python/Python310/lib/site-packages/spacy/language.py?line=1782'>1783</a>\u001b[0m         factory,\n\u001b[0;32m   <a href='file:///c%3A/Users/DELL/AppData/Local/Programs/Python/Python310/lib/site-packages/spacy/language.py?line=1783'>1784</a>\u001b[0m         name\u001b[39m=\u001b[39;49mpipe_name,\n\u001b[0;32m   <a href='file:///c%3A/Users/DELL/AppData/Local/Programs/Python/Python310/lib/site-packages/spacy/language.py?line=1784'>1785</a>\u001b[0m         config\u001b[39m=\u001b[39;49mpipe_cfg,\n\u001b[0;32m   <a href='file:///c%3A/Users/DELL/AppData/Local/Programs/Python/Python310/lib/site-packages/spacy/language.py?line=1785'>1786</a>\u001b[0m         validate\u001b[39m=\u001b[39;49mvalidate,\n\u001b[0;32m   <a href='file:///c%3A/Users/DELL/AppData/Local/Programs/Python/Python310/lib/site-packages/spacy/language.py?line=1786'>1787</a>\u001b[0m         raw_config\u001b[39m=\u001b[39;49mraw_config,\n\u001b[0;32m   <a href='file:///c%3A/Users/DELL/AppData/Local/Programs/Python/Python310/lib/site-packages/spacy/language.py?line=1787'>1788</a>\u001b[0m     )\n\u001b[0;32m   <a href='file:///c%3A/Users/DELL/AppData/Local/Programs/Python/Python310/lib/site-packages/spacy/language.py?line=1788'>1789</a>\u001b[0m \u001b[39melse\u001b[39;00m:\n\u001b[0;32m   <a href='file:///c%3A/Users/DELL/AppData/Local/Programs/Python/Python310/lib/site-packages/spacy/language.py?line=1789'>1790</a>\u001b[0m     \u001b[39m# We need the sourced components to reference the same\u001b[39;00m\n\u001b[0;32m   <a href='file:///c%3A/Users/DELL/AppData/Local/Programs/Python/Python310/lib/site-packages/spacy/language.py?line=1790'>1791</a>\u001b[0m     \u001b[39m# vocab without modifying the current vocab state **AND**\u001b[39;00m\n\u001b[1;32m   (...)\u001b[0m\n\u001b[0;32m   <a href='file:///c%3A/Users/DELL/AppData/Local/Programs/Python/Python310/lib/site-packages/spacy/language.py?line=1795'>1796</a>\u001b[0m     \u001b[39m# during deserialization, so they do not need any\u001b[39;00m\n\u001b[0;32m   <a href='file:///c%3A/Users/DELL/AppData/Local/Programs/Python/Python310/lib/site-packages/spacy/language.py?line=1796'>1797</a>\u001b[0m     \u001b[39m# additional handling.\u001b[39;00m\n\u001b[0;32m   <a href='file:///c%3A/Users/DELL/AppData/Local/Programs/Python/Python310/lib/site-packages/spacy/language.py?line=1797'>1798</a>\u001b[0m     \u001b[39mif\u001b[39;00m vocab_b \u001b[39mis\u001b[39;00m \u001b[39mNone\u001b[39;00m:\n",
      "File \u001b[1;32m~\\AppData\\Local\\Programs\\Python\\Python310\\lib\\site-packages\\spacy\\language.py:792\u001b[0m, in \u001b[0;36mLanguage.add_pipe\u001b[1;34m(self, factory_name, name, before, after, first, last, source, config, raw_config, validate)\u001b[0m\n\u001b[0;32m    <a href='file:///c%3A/Users/DELL/AppData/Local/Programs/Python/Python310/lib/site-packages/spacy/language.py?line=783'>784</a>\u001b[0m     \u001b[39mif\u001b[39;00m \u001b[39mnot\u001b[39;00m \u001b[39mself\u001b[39m\u001b[39m.\u001b[39mhas_factory(factory_name):\n\u001b[0;32m    <a href='file:///c%3A/Users/DELL/AppData/Local/Programs/Python/Python310/lib/site-packages/spacy/language.py?line=784'>785</a>\u001b[0m         err \u001b[39m=\u001b[39m Errors\u001b[39m.\u001b[39mE002\u001b[39m.\u001b[39mformat(\n\u001b[0;32m    <a href='file:///c%3A/Users/DELL/AppData/Local/Programs/Python/Python310/lib/site-packages/spacy/language.py?line=785'>786</a>\u001b[0m             name\u001b[39m=\u001b[39mfactory_name,\n\u001b[0;32m    <a href='file:///c%3A/Users/DELL/AppData/Local/Programs/Python/Python310/lib/site-packages/spacy/language.py?line=786'>787</a>\u001b[0m             opts\u001b[39m=\u001b[39m\u001b[39m\"\u001b[39m\u001b[39m, \u001b[39m\u001b[39m\"\u001b[39m\u001b[39m.\u001b[39mjoin(\u001b[39mself\u001b[39m\u001b[39m.\u001b[39mfactory_names),\n\u001b[1;32m   (...)\u001b[0m\n\u001b[0;32m    <a href='file:///c%3A/Users/DELL/AppData/Local/Programs/Python/Python310/lib/site-packages/spacy/language.py?line=789'>790</a>\u001b[0m             lang_code\u001b[39m=\u001b[39m\u001b[39mself\u001b[39m\u001b[39m.\u001b[39mlang,\n\u001b[0;32m    <a href='file:///c%3A/Users/DELL/AppData/Local/Programs/Python/Python310/lib/site-packages/spacy/language.py?line=790'>791</a>\u001b[0m         )\n\u001b[1;32m--> <a href='file:///c%3A/Users/DELL/AppData/Local/Programs/Python/Python310/lib/site-packages/spacy/language.py?line=791'>792</a>\u001b[0m     pipe_component \u001b[39m=\u001b[39m \u001b[39mself\u001b[39;49m\u001b[39m.\u001b[39;49mcreate_pipe(\n\u001b[0;32m    <a href='file:///c%3A/Users/DELL/AppData/Local/Programs/Python/Python310/lib/site-packages/spacy/language.py?line=792'>793</a>\u001b[0m         factory_name,\n\u001b[0;32m    <a href='file:///c%3A/Users/DELL/AppData/Local/Programs/Python/Python310/lib/site-packages/spacy/language.py?line=793'>794</a>\u001b[0m         name\u001b[39m=\u001b[39;49mname,\n\u001b[0;32m    <a href='file:///c%3A/Users/DELL/AppData/Local/Programs/Python/Python310/lib/site-packages/spacy/language.py?line=794'>795</a>\u001b[0m         config\u001b[39m=\u001b[39;49mconfig,\n\u001b[0;32m    <a href='file:///c%3A/Users/DELL/AppData/Local/Programs/Python/Python310/lib/site-packages/spacy/language.py?line=795'>796</a>\u001b[0m         raw_config\u001b[39m=\u001b[39;49mraw_config,\n\u001b[0;32m    <a href='file:///c%3A/Users/DELL/AppData/Local/Programs/Python/Python310/lib/site-packages/spacy/language.py?line=796'>797</a>\u001b[0m         validate\u001b[39m=\u001b[39;49mvalidate,\n\u001b[0;32m    <a href='file:///c%3A/Users/DELL/AppData/Local/Programs/Python/Python310/lib/site-packages/spacy/language.py?line=797'>798</a>\u001b[0m     )\n\u001b[0;32m    <a href='file:///c%3A/Users/DELL/AppData/Local/Programs/Python/Python310/lib/site-packages/spacy/language.py?line=798'>799</a>\u001b[0m pipe_index \u001b[39m=\u001b[39m \u001b[39mself\u001b[39m\u001b[39m.\u001b[39m_get_pipe_index(before, after, first, last)\n\u001b[0;32m    <a href='file:///c%3A/Users/DELL/AppData/Local/Programs/Python/Python310/lib/site-packages/spacy/language.py?line=799'>800</a>\u001b[0m \u001b[39mself\u001b[39m\u001b[39m.\u001b[39m_pipe_meta[name] \u001b[39m=\u001b[39m \u001b[39mself\u001b[39m\u001b[39m.\u001b[39mget_factory_meta(factory_name)\n",
      "File \u001b[1;32m~\\AppData\\Local\\Programs\\Python\\Python310\\lib\\site-packages\\spacy\\language.py:655\u001b[0m, in \u001b[0;36mLanguage.create_pipe\u001b[1;34m(self, factory_name, name, config, raw_config, validate)\u001b[0m\n\u001b[0;32m    <a href='file:///c%3A/Users/DELL/AppData/Local/Programs/Python/Python310/lib/site-packages/spacy/language.py?line=646'>647</a>\u001b[0m \u001b[39mif\u001b[39;00m \u001b[39mnot\u001b[39;00m \u001b[39mself\u001b[39m\u001b[39m.\u001b[39mhas_factory(factory_name):\n\u001b[0;32m    <a href='file:///c%3A/Users/DELL/AppData/Local/Programs/Python/Python310/lib/site-packages/spacy/language.py?line=647'>648</a>\u001b[0m     err \u001b[39m=\u001b[39m Errors\u001b[39m.\u001b[39mE002\u001b[39m.\u001b[39mformat(\n\u001b[0;32m    <a href='file:///c%3A/Users/DELL/AppData/Local/Programs/Python/Python310/lib/site-packages/spacy/language.py?line=648'>649</a>\u001b[0m         name\u001b[39m=\u001b[39mfactory_name,\n\u001b[0;32m    <a href='file:///c%3A/Users/DELL/AppData/Local/Programs/Python/Python310/lib/site-packages/spacy/language.py?line=649'>650</a>\u001b[0m         opts\u001b[39m=\u001b[39m\u001b[39m\"\u001b[39m\u001b[39m, \u001b[39m\u001b[39m\"\u001b[39m\u001b[39m.\u001b[39mjoin(\u001b[39mself\u001b[39m\u001b[39m.\u001b[39mfactory_names),\n\u001b[1;32m   (...)\u001b[0m\n\u001b[0;32m    <a href='file:///c%3A/Users/DELL/AppData/Local/Programs/Python/Python310/lib/site-packages/spacy/language.py?line=652'>653</a>\u001b[0m         lang_code\u001b[39m=\u001b[39m\u001b[39mself\u001b[39m\u001b[39m.\u001b[39mlang,\n\u001b[0;32m    <a href='file:///c%3A/Users/DELL/AppData/Local/Programs/Python/Python310/lib/site-packages/spacy/language.py?line=653'>654</a>\u001b[0m     )\n\u001b[1;32m--> <a href='file:///c%3A/Users/DELL/AppData/Local/Programs/Python/Python310/lib/site-packages/spacy/language.py?line=654'>655</a>\u001b[0m     \u001b[39mraise\u001b[39;00m \u001b[39mValueError\u001b[39;00m(err)\n\u001b[0;32m    <a href='file:///c%3A/Users/DELL/AppData/Local/Programs/Python/Python310/lib/site-packages/spacy/language.py?line=655'>656</a>\u001b[0m pipe_meta \u001b[39m=\u001b[39m \u001b[39mself\u001b[39m\u001b[39m.\u001b[39mget_factory_meta(factory_name)\n\u001b[0;32m    <a href='file:///c%3A/Users/DELL/AppData/Local/Programs/Python/Python310/lib/site-packages/spacy/language.py?line=656'>657</a>\u001b[0m \u001b[39m# This is unideal, but the alternative would mean you always need to\u001b[39;00m\n\u001b[0;32m    <a href='file:///c%3A/Users/DELL/AppData/Local/Programs/Python/Python310/lib/site-packages/spacy/language.py?line=657'>658</a>\u001b[0m \u001b[39m# specify the full config settings, which is not really viable.\u001b[39;00m\n",
      "\u001b[1;31mValueError\u001b[0m: [E002] Can't find factory for 'transformer' for language English (en). This usually happens when spaCy calls `nlp.create_pipe` with a custom component name that's not registered on the current language class. If you're using a Transformer, make sure to install 'spacy-transformers'. If you're using a custom component, make sure you've added the decorator `@Language.component` (for function components) or `@Language.factory` (for class components).\n\nAvailable factories: attribute_ruler, tok2vec, merge_noun_chunks, merge_entities, merge_subtokens, token_splitter, doc_cleaner, parser, beam_parser, entity_linker, ner, beam_ner, entity_ruler, lemmatizer, tagger, morphologizer, senter, sentencizer, textcat, spancat, textcat_multilabel, en.lemmatizer"
     ]
    }
   ],
   "source": [
    "nlp = spacy.load(\"en_core_web_trf\")"
   ]
  },
  {
   "cell_type": "code",
   "execution_count": 10,
   "metadata": {},
   "outputs": [],
   "source": [
    "document = str(open(\"test.json\").read())"
   ]
  },
  {
   "cell_type": "code",
   "execution_count": 12,
   "metadata": {},
   "outputs": [],
   "source": [
    "document = nlp(document)"
   ]
  },
  {
   "cell_type": "code",
   "execution_count": 13,
   "metadata": {},
   "outputs": [
    {
     "data": {
      "text/plain": [
       "[{\n",
       "         \"title\": \"'Mini-stroke' or transient ischaemic attack (TIA)\",\n",
       "         \"type\": \"symptom\",\n",
       "         \"data\": [\n",
       "             \"<p>The symptoms of a TIA are the same as a stroke, but they tend to only last between a few minutes and a few hours before disappearing completely.</p>\",\n",
       "             \"<p>,\n",
       " Although the symptoms do improve, a TIA should never be ignored as it's a serious warning sign there is a problem with the blood supply to your brain and means you're at an increased risk of having a stroke in the near future.</p>\",\n",
       "             \"<p>,\n",
       " If you've had a TIA, you should contact your GP, local hospital or out-of-hours service, as soon as possible.</p>\"\n",
       "         ],\n",
       "                  \"disease\": \"Stroke\"\n",
       "   }]"
      ]
     },
     "execution_count": 13,
     "metadata": {},
     "output_type": "execute_result"
    }
   ],
   "source": [
    "list(document.sents)"
   ]
  },
  {
   "cell_type": "code",
   "execution_count": 28,
   "metadata": {},
   "outputs": [],
   "source": [
    "#define some parameters  \n",
    "noisy_pos_tags = [\"PROP\"]\n",
    "min_token_length = 2"
   ]
  },
  {
   "cell_type": "code",
   "execution_count": 30,
   "metadata": {},
   "outputs": [],
   "source": [
    "#Function to check if the token is a noise or not  \n",
    "def isNoise(token):     \n",
    "    is_noise = False\n",
    "    if token.pos_ in noisy_pos_tags:\n",
    "        is_noise = True \n",
    "    elif token.is_stop == True:\n",
    "        is_noise = True\n",
    "    elif len(token.string) <= min_token_length:\n",
    "        is_noise = True\n",
    "    return is_noise"
   ]
  },
  {
   "cell_type": "code",
   "execution_count": 31,
   "metadata": {},
   "outputs": [],
   "source": [
    "def cleanup(token, lower = True):\n",
    "    if lower:\n",
    "       token = token.lower()\n",
    "    return token.strip()"
   ]
  },
  {
   "cell_type": "code",
   "execution_count": 18,
   "metadata": {},
   "outputs": [],
   "source": [
    "from bs4 import BeautifulSoup\n",
    "import pandas as pd"
   ]
  },
  {
   "cell_type": "code",
   "execution_count": 19,
   "metadata": {},
   "outputs": [
    {
     "data": {
      "text/html": [
       "<div>\n",
       "<style scoped>\n",
       "    .dataframe tbody tr th:only-of-type {\n",
       "        vertical-align: middle;\n",
       "    }\n",
       "\n",
       "    .dataframe tbody tr th {\n",
       "        vertical-align: top;\n",
       "    }\n",
       "\n",
       "    .dataframe thead th {\n",
       "        text-align: right;\n",
       "    }\n",
       "</style>\n",
       "<table border=\"1\" class=\"dataframe\">\n",
       "  <thead>\n",
       "    <tr style=\"text-align: right;\">\n",
       "      <th></th>\n",
       "      <th>title</th>\n",
       "      <th>type</th>\n",
       "      <th>data</th>\n",
       "      <th>disease</th>\n",
       "    </tr>\n",
       "  </thead>\n",
       "  <tbody>\n",
       "    <tr>\n",
       "      <th>0</th>\n",
       "      <td>'Mini-stroke' or transient ischaemic attack (TIA)</td>\n",
       "      <td>symptom</td>\n",
       "      <td>&lt;p&gt;The symptoms of a TIA are the same as a str...</td>\n",
       "      <td>Stroke</td>\n",
       "    </tr>\n",
       "    <tr>\n",
       "      <th>1</th>\n",
       "      <td>'Mini-stroke' or transient ischaemic attack (TIA)</td>\n",
       "      <td>symptom</td>\n",
       "      <td>&lt;p&gt;Although the symptoms do improve, a TIA sho...</td>\n",
       "      <td>Stroke</td>\n",
       "    </tr>\n",
       "    <tr>\n",
       "      <th>2</th>\n",
       "      <td>'Mini-stroke' or transient ischaemic attack (TIA)</td>\n",
       "      <td>symptom</td>\n",
       "      <td>&lt;p&gt;If you've had a TIA, you should contact you...</td>\n",
       "      <td>Stroke</td>\n",
       "    </tr>\n",
       "  </tbody>\n",
       "</table>\n",
       "</div>"
      ],
      "text/plain": [
       "                                               title     type  \\\n",
       "0  'Mini-stroke' or transient ischaemic attack (TIA)  symptom   \n",
       "1  'Mini-stroke' or transient ischaemic attack (TIA)  symptom   \n",
       "2  'Mini-stroke' or transient ischaemic attack (TIA)  symptom   \n",
       "\n",
       "                                                data disease  \n",
       "0  <p>The symptoms of a TIA are the same as a str...  Stroke  \n",
       "1  <p>Although the symptoms do improve, a TIA sho...  Stroke  \n",
       "2  <p>If you've had a TIA, you should contact you...  Stroke  "
      ]
     },
     "execution_count": 19,
     "metadata": {},
     "output_type": "execute_result"
    }
   ],
   "source": [
    "pan = pd.read_json(\"test.json\")\n",
    "# doc = BeautifulSoup(diction[0])\n",
    "pan"
   ]
  },
  {
   "cell_type": "code",
   "execution_count": 27,
   "metadata": {},
   "outputs": [
    {
     "name": "stdout",
     "output_type": "stream",
     "text": [
      "Doc: The symptoms of a TIA are the same as a stroke, but they tend to only last between a few minutes and a few hours before disappearing completely.\n",
      "Noun phrases: ['The symptoms', 'a TIA', 'a stroke', 'they', 'a few minutes']\n",
      "Verbs: ['tend', 'disappear']\n"
     ]
    }
   ],
   "source": [
    "bs = BeautifulSoup(pan[\"data\"][0],'html.parser')\n",
    "doc = nlp(bs.getText())\n",
    "print(\"Doc:\", doc)\n",
    "print(\"Noun phrases:\", [chunk.text for chunk in doc.noun_chunks])\n",
    "print(\"Verbs:\", [token.lemma_ for token in doc if token.pos_ == \"VERB\"])"
   ]
  },
  {
   "cell_type": "code",
   "execution_count": 28,
   "metadata": {},
   "outputs": [
    {
     "name": "stdout",
     "output_type": "stream",
     "text": [
      "a few hours TIME\n"
     ]
    }
   ],
   "source": [
    "for entity in doc.ents:\n",
    "    print(entity.text, entity.label_)"
   ]
  },
  {
   "cell_type": "code",
   "execution_count": null,
   "metadata": {},
   "outputs": [],
   "source": []
  }
 ],
 "metadata": {
  "interpreter": {
   "hash": "780a354d57c8e214d9717ce5db3cb79ec448e2663d29d7e7694b88eee37d2c96"
  },
  "kernelspec": {
   "display_name": "Python 3.10.1 64-bit",
   "language": "python",
   "name": "python3"
  },
  "language_info": {
   "codemirror_mode": {
    "name": "ipython",
    "version": 3
   },
   "file_extension": ".py",
   "mimetype": "text/x-python",
   "name": "python",
   "nbconvert_exporter": "python",
   "pygments_lexer": "ipython3",
   "version": "3.10.1"
  },
  "orig_nbformat": 4
 },
 "nbformat": 4,
 "nbformat_minor": 2
}
